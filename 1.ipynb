{
 "cells": [
  {
   "cell_type": "markdown",
   "id": "f4a88f1d-cf24-4769-99c9-eb750cf4e667",
   "metadata": {},
   "source": [
    "## Методы обработки естественных языков\n",
    "\n",
    "### Практическая работа 1"
   ]
  },
  {
   "cell_type": "markdown",
   "id": "f382ad62-3fa8-4ede-aa65-127e435259ab",
   "metadata": {},
   "source": [
    "Завимости необходимые для запуска программы:\n",
    "- [spacy](https://spacy.io/)\n",
    "    - `spacy download ru_core_news_sm`\n",
    "- [ruwordnet](https://github.com/avidale/python-ruwordnet)\n",
    "    - `ruwordnet download`\n",
    "- [scikit-learn](https://scikit-learn.org/stable/)"
   ]
  },
  {
   "cell_type": "code",
   "execution_count": 1,
   "id": "812f8bf5-9a56-41ee-bdf1-6ecd754946d5",
   "metadata": {},
   "outputs": [],
   "source": [
    "import warnings\n",
    "warnings.filterwarnings(\"ignore\")"
   ]
  },
  {
   "cell_type": "code",
   "execution_count": 2,
   "id": "f744722a-1996-4efc-a7cd-3df0e07b0cd6",
   "metadata": {},
   "outputs": [],
   "source": [
    "import spacy\n",
    "import pandas as pd\n",
    "\n",
    "from ruwordnet import RuWordNet\n",
    "from sklearn.metrics import accuracy_score\n",
    "from sklearn.naive_bayes import MultinomialNB\n",
    "from sklearn.model_selection import train_test_split\n",
    "from sklearn.feature_extraction.text import CountVectorizer"
   ]
  },
  {
   "cell_type": "markdown",
   "id": "10fe6748-77fa-49c4-bd4f-293ac1dea0cf",
   "metadata": {},
   "source": [
    "Документ - роман Ф.М.Достоевского \"Преступление и наказание\""
   ]
  },
  {
   "cell_type": "code",
   "execution_count": 3,
   "id": "f0dab258-e9f2-48f6-b68e-aae540851c58",
   "metadata": {},
   "outputs": [],
   "source": [
    "book_text = \"\"\n",
    "with open(\"data/Преступление_и_наказание.txt\", \"r\") as f:\n",
    "    book_text = f.read()"
   ]
  },
  {
   "cell_type": "code",
   "execution_count": 4,
   "id": "fb47dfdc-b4d2-4de1-93e0-760733925f64",
   "metadata": {},
   "outputs": [
    {
     "name": "stdout",
     "output_type": "stream",
     "text": [
      "[]\n",
      "\n",
      "Достоевский Ф.М.\n",
      "\n",
      "Преступление и наказание / Достоевский Ф.М.—М.:ДА!Медиа, 2014.\n",
      "\n",
      "«Преступление и наказание» – роман великого русского писателя,\n",
      "мыслителя, философа и публициста Федора Михайловича Достоевского\n",
      "(1821-1881). Написан в 1865-1866 годы. Впервые напечатан по частям в\n",
      "январе-декабре 1866 года в журнале «Русский вестник». Вскоре после\n",
      "окончания журнальной публикации романа Достоевский печатает его\n",
      "отдельным изданием, для которого сделал в тексте значительные сокращения\n",
      "и изменения: три части журнальной редакции были преобразованы в шесть,\n",
      "частично было изменено и деление на главы.\n",
      "\n",
      "«Преступление и наказание» открывает новый, высший этап творчества\n",
      "Достоевского. Здесь он впервые выступает как создатель принципиально\n",
      "нового романа в мировой литературе, который был назван «полифоническим».\n",
      "В основе драматического конфликта произведения – столкновение\n",
      "характеров, воплощающих разные идейные принципы, борьба теории с жизнью\n",
      "в душе каждого одержимого человека. Изображение общественной ломки,\n",
      "связанной с развитием буржуазных отношений, Достоевский соединяет с\n",
      "исследованием политических взглядов и философских теорий, которые влияют\n",
      "на это развитие. Поэтому роман «Преступление и наказание» называют\n",
      "социально-философским, психологическим и идеологическим произведением.\n",
      "\n",
      "ISBN 978-5-4472-3662-5\n",
      "\n",
      "© ООО «ДА!Медиа», по заказу Министерства культуры Российской Федерации,\n",
      "2014\n",
      "\n",
      "ЧАСТЬ ПЕРВАЯ\n",
      "\n",
      "I\n",
      "\n",
      " \n",
      "\n",
      "В начале июля, в чрезвычайно жаркое время, под вечер, один молодой\n",
      "человек вышел из своей каморки, которую нанимал от жильцов в С—м\n",
      "переулке, на улицу и медленно, как бы в нерешимости, отправился к К—ну\n",
      "мосту.\n",
      "\n",
      "Он благополучно избегнул встречи с своею хозяйкой на лестнице. Каморка\n",
      "его приходилась под самою кровлей высокого пятиэтажного дома и походила\n",
      "более на шкаф, чем на квартиру. Квартирная же хозяйка его, у которой он\n",
      "нанимал эту каморку с обедом и прислугой, помещалась одною лестницей\n",
      "ниже, в отдельной квартире, и каждый раз, при выходе на улицу, ему\n",
      "непременно надо было пр\n"
     ]
    }
   ],
   "source": [
    "print(book_text[:2000])"
   ]
  },
  {
   "cell_type": "code",
   "execution_count": 5,
   "id": "c9525700-7f69-486c-8748-5521fb2e34a3",
   "metadata": {},
   "outputs": [],
   "source": [
    "nlp = spacy.load(\"ru_core_news_sm\")\n",
    "wn = RuWordNet()"
   ]
  },
  {
   "cell_type": "markdown",
   "id": "d4100211-967c-4b95-b0c9-267db6043be7",
   "metadata": {},
   "source": [
    "#### Нормализация"
   ]
  },
  {
   "cell_type": "markdown",
   "id": "15995e8f-cc86-41b1-ab05-17d3ef01645a",
   "metadata": {},
   "source": [
    "- для лемматизации используется библиотека `spaCy`\n",
    "- для синонимизации используется библиотека `ruwordnet`"
   ]
  },
  {
   "cell_type": "code",
   "execution_count": 6,
   "id": "38a3e244-8518-40ca-a265-acd2cce434c4",
   "metadata": {},
   "outputs": [],
   "source": [
    "def normalize_text(text):\n",
    "    doc = nlp(text)\n",
    "\n",
    "    # лемматизация и удаление стоп-слов\n",
    "    lemmas = [token.lemma_.lower() for token in doc if token.is_alpha and not token.is_stop]\n",
    "\n",
    "    # синонимизация\n",
    "    tokens = []\n",
    "    for token in lemmas:\n",
    "        senses = wn.get_senses(token)\n",
    "        synonym = None\n",
    "        if len(senses) != 0:\n",
    "            synonym = wn.get_senses(token)[0].synset.senses[0].name.lower()\n",
    "        if synonym:\n",
    "            tokens.append(synonym)\n",
    "        else:\n",
    "            tokens.append(token)\n",
    "\n",
    "    return tokens"
   ]
  },
  {
   "cell_type": "markdown",
   "id": "173a57d8-2157-45a0-89f3-9aec4b390fd5",
   "metadata": {},
   "source": [
    "Так как синонимизация занимает очень много времени, из-за этого используется не вся книга"
   ]
  },
  {
   "cell_type": "code",
   "execution_count": 7,
   "id": "73009b06-f6c7-4ca3-9ad9-227d8748c568",
   "metadata": {},
   "outputs": [],
   "source": [
    "normalized_tokens = normalize_text(book_text[:50_000])"
   ]
  },
  {
   "cell_type": "markdown",
   "id": "2a55090e-d2de-45db-8ad2-64c7e5427a90",
   "metadata": {},
   "source": [
    "#### Анализатор тональности"
   ]
  },
  {
   "cell_type": "markdown",
   "id": "f35574eb-ab6b-4d91-a286-1b6f713a861a",
   "metadata": {},
   "source": [
    "[Russian Sentiment Dataset](https://www.kaggle.com/datasets/mar1mba/russian-sentiment-dataset) - датасет с размеченными данными для анализа тональности.\n",
    "\n",
    "Структура набора данных:\n",
    "- `text` - текст отзыва или комментария\n",
    "- `label` - метка настроения:\n",
    "    - `0` - нейтральный\n",
    "    - `1` - положительный\n",
    "    - `2` - отрицательный\n",
    "- `src` - источник набора данных"
   ]
  },
  {
   "cell_type": "code",
   "execution_count": 8,
   "id": "41246749-2e91-4389-a556-940a6fc407de",
   "metadata": {},
   "outputs": [],
   "source": [
    "data = pd.read_csv(\"data/sentiment_dataset.csv\")\n",
    "\n",
    "texts = data[\"text\"].values\n",
    "labels = data[\"label\"].values"
   ]
  },
  {
   "cell_type": "code",
   "execution_count": 9,
   "id": "219b7e79-ee52-4fc7-b76a-0cf5311956d1",
   "metadata": {},
   "outputs": [],
   "source": [
    "x_train, x_test, y_train, y_test = train_test_split(texts, labels, random_state=0)"
   ]
  },
  {
   "cell_type": "markdown",
   "id": "8fb7dfe0-fe19-4222-a6ba-c3041e6f9078",
   "metadata": {},
   "source": [
    "##### Векторизация"
   ]
  },
  {
   "cell_type": "code",
   "execution_count": 10,
   "id": "8fd0f24e-d03a-49f1-bb67-be4b2c7bc7cb",
   "metadata": {},
   "outputs": [],
   "source": [
    "vectorizer = CountVectorizer()\n",
    "x_train_vec = vectorizer.fit_transform(x_train)\n",
    "x_test_vec = vectorizer.transform(x_test)"
   ]
  },
  {
   "cell_type": "markdown",
   "id": "cf46f1be-373d-45c5-b600-76f2483b11ef",
   "metadata": {},
   "source": [
    "##### Обучение наивного байесовского классификатора"
   ]
  },
  {
   "cell_type": "code",
   "execution_count": 11,
   "id": "b79d4a86-50a0-49c3-97ec-8570f8eba6ba",
   "metadata": {},
   "outputs": [],
   "source": [
    "clf = MultinomialNB()\n",
    "clf.fit(x_train_vec, y_train);"
   ]
  },
  {
   "cell_type": "code",
   "execution_count": 12,
   "id": "220ac7ab-5250-4ac4-a736-d8cdc2482747",
   "metadata": {},
   "outputs": [
    {
     "name": "stdout",
     "output_type": "stream",
     "text": [
      "Оценка точности классификтора: 0.68\n"
     ]
    }
   ],
   "source": [
    "y_pred = clf.predict(x_test_vec)\n",
    "\n",
    "print(f\"Оценка точности классификтора: {accuracy_score(y_test, y_pred):.2f}\")"
   ]
  },
  {
   "cell_type": "code",
   "execution_count": 13,
   "id": "7a3fdfe2-ba4f-4b88-bf60-41aebe3f28c2",
   "metadata": {},
   "outputs": [],
   "source": [
    "normalized_book = \" \".join(normalized_tokens)\n",
    "vectorized_book = vectorizer.transform([normalized_book])\n",
    "prection_book = clf.predict(vectorized_book)[0]"
   ]
  },
  {
   "cell_type": "markdown",
   "id": "e9726453-c209-4080-bdd5-b7ea56d40e6b",
   "metadata": {},
   "source": [
    "#### Итоги практической работы"
   ]
  },
  {
   "cell_type": "code",
   "execution_count": 14,
   "id": "15223898-bf43-4827-b5d8-c981e1d621e0",
   "metadata": {},
   "outputs": [
    {
     "name": "stdout",
     "output_type": "stream",
     "text": [
      "Часть книги Ф.М.Достоевского 'Преступление и наказание' имеет нейтральную тональность\n"
     ]
    }
   ],
   "source": [
    "labels_dict = {0: \"нейтральную\", 1: \"положительную\", 2: \"отрицательную\"}\n",
    "\n",
    "print(f\"Часть книги Ф.М.Достоевского 'Преступление и наказание' имеет {labels_dict[prection_book]} тональность\")"
   ]
  }
 ],
 "metadata": {
  "kernelspec": {
   "display_name": "Python 3 (ipykernel)",
   "language": "python",
   "name": "python3"
  },
  "language_info": {
   "codemirror_mode": {
    "name": "ipython",
    "version": 3
   },
   "file_extension": ".py",
   "mimetype": "text/x-python",
   "name": "python",
   "nbconvert_exporter": "python",
   "pygments_lexer": "ipython3",
   "version": "3.13.7"
  }
 },
 "nbformat": 4,
 "nbformat_minor": 5
}
